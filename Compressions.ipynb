{
 "cells": [
  {
   "cell_type": "code",
   "execution_count": null,
   "id": "d2405073",
   "metadata": {},
   "outputs": [],
   "source": [
    "# ZLIB\n",
    "\n",
    "import zlib\n",
    "\n",
    "def compress_file(input_path, output_path,level):\n",
    "    # Read the original file in binary mode\n",
    "    with open(input_path, 'rb') as f_in:\n",
    "        data = f_in.read()\n",
    "    \n",
    "    # Compress the data (default level)\n",
    "    compressed_data = zlib.compress(data,level)\n",
    "    \n",
    "    # Write the compressed data to a new file\n",
    "    with open(output_path, 'wb') as f_out:\n",
    "        f_out.write(compressed_data)\n"
   ]
  },
  {
   "cell_type": "code",
   "execution_count": 4,
   "id": "0cbacf38",
   "metadata": {},
   "outputs": [],
   "source": [
    "# Example usage:\n",
    "compress_file('TB_FIRE_1101_hits.root', 'TB_FIRE_1101_hits_compressed_9.zlib', 9)\n"
   ]
  },
  {
   "cell_type": "code",
   "execution_count": null,
   "id": "5458eec6",
   "metadata": {},
   "outputs": [],
   "source": [
    "# LZMA\n",
    "\n",
    "import lzma\n",
    "\n",
    "def compress_file_lzma(input_path, output_path):\n",
    "    # Open the original file in binary read mode\n",
    "    with open(input_path, 'rb') as f_in:\n",
    "        data = f_in.read()\n",
    "    \n",
    "    # Compress data with lzma.compress()\n",
    "    compressed_data = lzma.compress(data)\n",
    "    \n",
    "    # Write the compressed data to the output file\n",
    "    with open(output_path, 'wb') as f_out:\n",
    "        f_out.write(compressed_data)\n"
   ]
  },
  {
   "cell_type": "code",
   "execution_count": 2,
   "id": "8606bdd9",
   "metadata": {},
   "outputs": [],
   "source": [
    "\n",
    "# Example usage - replace with your actual filenames\n",
    "compress_file_lzma('TB_FIRE_1101_hits.root', 'TB_FIRE_1101_hits_LZMA_compressed.xz')\n"
   ]
  }
 ],
 "metadata": {
  "kernelspec": {
   "display_name": "Python 3",
   "language": "python",
   "name": "python3"
  },
  "language_info": {
   "codemirror_mode": {
    "name": "ipython",
    "version": 3
   },
   "file_extension": ".py",
   "mimetype": "text/x-python",
   "name": "python",
   "nbconvert_exporter": "python",
   "pygments_lexer": "ipython3",
   "version": "3.9.13"
  }
 },
 "nbformat": 4,
 "nbformat_minor": 5
}
