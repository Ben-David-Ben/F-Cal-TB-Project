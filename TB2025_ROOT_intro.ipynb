{
 "cells": [
  {
   "cell_type": "code",
   "execution_count": 1,
   "id": "ee0a370e",
   "metadata": {},
   "outputs": [],
   "source": [
    "import numpy as np\n",
    "import matplotlib.pylab as plt\n",
    "import uproot\n",
    "import awkward as ak"
   ]
  },
  {
   "cell_type": "code",
   "execution_count": 2,
   "id": "687052cd",
   "metadata": {},
   "outputs": [
    {
     "name": "stdout",
     "output_type": "stream",
     "text": [
      "c:\\Users\\bents\\AppData\\Local\\Programs\\Python\\Python313\\python.exe\n"
     ]
    }
   ],
   "source": [
    "import sys\n",
    "print(sys.executable)"
   ]
  },
  {
   "cell_type": "markdown",
   "id": "d8164b1a",
   "metadata": {},
   "source": [
    "<span style=\"font-family: Comic Sans MS; font-size:25px; color:orange\">\n",
    "\n",
    "Open Root File"
   ]
  },
  {
   "cell_type": "code",
   "execution_count": 3,
   "id": "495a7f78",
   "metadata": {},
   "outputs": [],
   "source": [
    "# load root file\n",
    "\n",
    "infile_name = 'TB_FIRE_1101_hits.root'\n",
    "infile = uproot.open(infile_name)"
   ]
  },
  {
   "cell_type": "code",
   "execution_count": 4,
   "id": "416c1091",
   "metadata": {},
   "outputs": [
    {
     "name": "stdout",
     "output_type": "stream",
     "text": [
      "<class 'uproot.reading.ReadOnlyDirectory'>\n",
      "['Hits;1']\n",
      "<class 'uproot.models.TTree.Model_TTree_v20'>\n",
      "name                 | typename                 | interpretation                \n",
      "---------------------+--------------------------+-------------------------------\n",
      "TLU_number           | uint64_t                 | AsDtype('>u8')\n",
      "timestamp            | std::vector<uint64_t>    | AsJagged(AsDtype('>u8'), he...\n",
      "plane_ID             | std::vector<int32_t>     | AsJagged(AsDtype('>i4'), he...\n",
      "ch_ID                | std::vector<int32_t>     | AsJagged(AsDtype('>i4'), he...\n",
      "amplitude            | std::vector<int32_t>     | AsJagged(AsDtype('>i4'), he...\n",
      "toa                  | std::vector<int32_t>     | AsJagged(AsDtype('>i4'), he...\n"
     ]
    }
   ],
   "source": [
    "# get headings\n",
    "\n",
    "print(type(infile))\n",
    "keys = infile.keys()\n",
    "print(keys)\n",
    "\n",
    "hits = infile['Hits']\n",
    "print(type(hits))\n",
    "hits.show()"
   ]
  },
  {
   "cell_type": "code",
   "execution_count": 5,
   "id": "0922420e",
   "metadata": {},
   "outputs": [
    {
     "name": "stdout",
     "output_type": "stream",
     "text": [
      "TLU_number           <TBranch 'TLU_number' at 0x026b90f4b770>\n",
      "timestamp            <TBranchElement 'timestamp' at 0x026b91150c20>\n",
      "plane_ID             <TBranchElement 'plane_ID' at 0x026b9117ca50>\n",
      "ch_ID                <TBranchElement 'ch_ID' at 0x026b9117cb90>\n",
      "amplitude            <TBranchElement 'amplitude' at 0x026b91161480>\n",
      "toa                  <TBranchElement 'toa' at 0x026b911615b0>\n"
     ]
    },
    {
     "data": {
      "text/plain": [
       "<TBranch 'TLU_number' at 0x026b90f4b770>"
      ]
     },
     "execution_count": 5,
     "metadata": {},
     "output_type": "execute_result"
    }
   ],
   "source": [
    "# expand branches within headings(keys) \n",
    "\n",
    "# branches = infile['Hits'].keys()\n",
    "branches = hits.keys()\n",
    "\n",
    "for branch in branches:\n",
    "    print(f\"{branch:20s} {infile['Hits'][branch]}\")\n",
    "\n",
    "# extract specific branch\n",
    "pt = infile['Hits']['TLU_number']\n",
    "pt"
   ]
  },
  {
   "cell_type": "markdown",
   "id": "784df88a",
   "metadata": {},
   "source": [
    "<span style=\"font-family: Comic Sans MS; font-size:25px; color:orange\">\n",
    "\n",
    "Read Data In Root File Using Awkward"
   ]
  },
  {
   "cell_type": "code",
   "execution_count": 6,
   "id": "08aad0cf",
   "metadata": {},
   "outputs": [
    {
     "data": {
      "text/plain": [
       "45"
      ]
     },
     "execution_count": 6,
     "metadata": {},
     "output_type": "execute_result"
    }
   ],
   "source": [
    "# hits['ch_ID'].array(entry_start=10, entry_stop=20)\n",
    "plane_array = hits['plane_ID'].array()\n",
    "len(plane_array[63])"
   ]
  },
  {
   "cell_type": "code",
   "execution_count": 7,
   "id": "b06b016b",
   "metadata": {},
   "outputs": [],
   "source": [
    "# sort all the characters of the run in arrays\n",
    "tlu = hits['TLU_number'].array()\n",
    "amp = hits['amplitude'].array()\n",
    "toa = hits['toa'].array()\n",
    "time = hits['timestamp'].array()\n",
    "plane = hits['plane_ID'].array()\n",
    "channel = hits['ch_ID'].array()"
   ]
  },
  {
   "cell_type": "markdown",
   "id": "870d0826",
   "metadata": {},
   "source": [
    "<span style=\"font-family: Comic Sans MS; font-size:25px; color:orange\">\n",
    "Deal with events and hits"
   ]
  },
  {
   "cell_type": "code",
   "execution_count": 8,
   "id": "2b169fdb",
   "metadata": {},
   "outputs": [
    {
     "name": "stdout",
     "output_type": "stream",
     "text": [
      "2356797\n",
      "[10, 11, 12, 13, 14, 15, 16, 17, 18, 19] \n",
      " [[35, 132, 85, 65, 247, 154, 150, 90, ..., 30, 36, 35, 291, 28, 22, 34], ...] \n",
      " [[0, 0, 0, 0, 0, 0, 0, 0, 0, 1, 1, ..., 4, 4, 5, 5, 5, 5, 6, 6, 6, 7, 7], ...] \n",
      " [[5, 104, 121, 122, 124, 125, 144, ..., 164, 185, 143, 144, 164, 143, 144], ...]\n"
     ]
    }
   ],
   "source": [
    "# print some important characterisics and and present the data for different events\n",
    "# notice that all arrays are of the same length\n",
    "print(len(tlu))\n",
    "print(tlu[10:20],\"\\n\", amp[10:20],\"\\n\", plane[10:20],\"\\n\", channel[10:20])"
   ]
  },
  {
   "cell_type": "code",
   "execution_count": 9,
   "id": "7cef0a65",
   "metadata": {},
   "outputs": [
    {
     "name": "stdout",
     "output_type": "stream",
     "text": [
      "41 \n",
      " 41 \n",
      " 41\n",
      "10 \n",
      " amplitude: [35, 132, 85, 65, 247, 154, 150, 90, 44, ..., 83, 30, 36, 35, 291, 28, 22, 34] \n",
      " plane [0, 0, 0, 0, 0, 0, 0, 0, 0, 1, 1, 1, 1, ..., 4, 4, 4, 5, 5, 5, 5, 6, 6, 6, 7, 7] \n",
      " channel [5, 104, 121, 122, 124, 125, 144, 145, ..., 164, 185, 143, 144, 164, 143, 144]\n"
     ]
    }
   ],
   "source": [
    "# look at a single event\n",
    "print(len(amp[10]),'\\n',len(plane[10]),\"\\n\",len(channel[10]))\n",
    "print(tlu[10],\"\\n amplitude:\", amp[10],\"\\n plane\", plane[10],\"\\n channel\", channel[10])"
   ]
  },
  {
   "cell_type": "code",
   "execution_count": 10,
   "id": "f6a52b49",
   "metadata": {},
   "outputs": [
    {
     "name": "stdout",
     "output_type": "stream",
     "text": [
      "[{amp: 35, plane: 0, ch: 5},\n",
      " {amp: 132, plane: 0, ch: 104},\n",
      " {amp: 85, plane: 0, ch: 121},\n",
      " {amp: 65, plane: 0, ch: 122},\n",
      " {amp: 247, plane: 0, ch: 124},\n",
      " {amp: 154, plane: 0, ch: 125},\n",
      " {amp: 150, plane: 0, ch: 144},\n",
      " {amp: 90, plane: 0, ch: 145},\n",
      " {amp: 44, plane: 0, ch: 164},\n",
      " {amp: 11, plane: 1, ch: 123},\n",
      " ...,\n",
      " {amp: 107, plane: 5, ch: 125},\n",
      " {amp: 83, plane: 5, ch: 143},\n",
      " {amp: 30, plane: 5, ch: 164},\n",
      " {amp: 36, plane: 5, ch: 185},\n",
      " {amp: 35, plane: 6, ch: 143},\n",
      " {amp: 291, plane: 6, ch: 144},\n",
      " {amp: 28, plane: 6, ch: 164},\n",
      " {amp: 22, plane: 7, ch: 143},\n",
      " {amp: 34, plane: 7, ch: 144}]\n"
     ]
    }
   ],
   "source": [
    "# create triplets of for each hit\n",
    "triplets = ak.zip({\"amp\":amp[10], \"plane\":plane[10], \"ch\":channel[10]}).show()\n",
    "# triplets = ak.zip([amp[10], plane[10], channel[10]]).show()\n"
   ]
  },
  {
   "cell_type": "markdown",
   "id": "07dd3a9a",
   "metadata": {},
   "source": [
    "<span style=\"font-family: Comic Sans MS; font-size:25px; color:orange\">\n",
    "Introducing \"Awkward\" library"
   ]
  },
  {
   "cell_type": "code",
   "execution_count": 11,
   "id": "bbe5216c",
   "metadata": {},
   "outputs": [
    {
     "name": "stdout",
     "output_type": "stream",
     "text": [
      "[39, 27, 183, 73, 435, 83, 38, 63, 32, ..., 70, 56, 107, 53, 356, 61, 29, 67]\n"
     ]
    },
    {
     "data": {
      "text/plain": [
       "Text(0, 0.5, 'Counts')"
      ]
     },
     "execution_count": 11,
     "metadata": {},
     "output_type": "execute_result"
    },
    {
     "data": {
      "image/png": "[encoded data removed]",
      "text/plain": [
       "<Figure size 640x480 with 1 Axes>"
      ]
     },
     "metadata": {},
     "output_type": "display_data"
    }
   ],
   "source": [
    "# creating an hitsogram using ak flattening\n",
    "\n",
    "\n",
    "\n",
    "print(ak.flatten(amp))\n",
    "plt.figure()\n",
    "plt.hist(ak.flatten(amp),bins=101,range=(0,100))\n",
    "# plt.hist(ak.flatten(amp),bins=100)\n",
    "plt.grid()\n",
    "plt.title('Amplitude of Hits',fontsize=16)\n",
    "plt.xlabel('Amplitude',fontsize=14)\n",
    "plt.ylabel('Counts',fontsize=14)\n"
   ]
  },
  {
   "cell_type": "code",
   "execution_count": 12,
   "id": "fc60f8d6",
   "metadata": {},
   "outputs": [
    {
     "name": "stdout",
     "output_type": "stream",
     "text": [
      "[(1, 2, 3),\n",
      " (1, 2, 4),\n",
      " (1, 2, 5),\n",
      " (1, 3, 4),\n",
      " (1, 3, 5),\n",
      " (1, 4, 5),\n",
      " (2, 3, 4),\n",
      " (2, 3, 5),\n",
      " (2, 4, 5),\n",
      " (3, 4, 5)]\n",
      "\n",
      "[[(1, 2, 3), (1, 2, 4), (1, 3, 4), (2, 3, 4)],\n",
      " [(20, 40, 50)],\n",
      " [],\n",
      " []]\n"
     ]
    }
   ],
   "source": [
    "# use awkward to show all compbinations (permutations) to organize elements from an array in n sized list\n",
    "a = ak.Array([1,2,3,4,5])\n",
    "n = 3\n",
    "ak.combinations(a, n, axis=0).show()\n",
    "\n",
    "print()\n",
    "\n",
    "# can also work simultaneousley on different sized sub arrays\n",
    "b = ak.Array([[1,2,3,4], [20,40,50], [5,6], []])\n",
    "ak.combinations(b, n).show()"
   ]
  },
  {
   "cell_type": "code",
   "execution_count": 13,
   "id": "0d196b27",
   "metadata": {},
   "outputs": [
    {
     "name": "stdout",
     "output_type": "stream",
     "text": [
      "[[{x: 1, y: 2}, {x: 1, y: 3}, {x: 2, y: 3}],\n",
      " [{x: 40, y: 50}]]\n"
     ]
    }
   ],
   "source": [
    "# create a set of values (x and y)\n",
    "c = ak.Array([[1,2,3],[40,50]])\n",
    "ak.combinations(c, 2, fields=[\"x\", \"y\"]).show()"
   ]
  },
  {
   "cell_type": "code",
   "execution_count": 14,
   "id": "1f28eaa5",
   "metadata": {},
   "outputs": [
    {
     "name": "stdout",
     "output_type": "stream",
     "text": [
      "[[(1, 'a', 'la'), (1, 'a', 'mi'), (...), ..., (3, 'b', 'la'), (3, 'b', 'mi')],\n",
      " [],\n",
      " [(5, 'd', 'do'), (7, 'd', 'do')],\n",
      " [(11, 'e', 're'), (11, 'e', 'fa'), (11, 'f', 're'), (11, 'f', 'fa')]]\n",
      "\n",
      "[[1, 1, 1, 1, 2, 2, 2, 2, 3, 3, 3, 3], [], [5, 7], [11, 11, 11, 11]]\n",
      "\n",
      "[['a', 'a', 'b', 'b', 'a', 'a', 'b', 'b', 'a', 'a', 'b', 'b'], ..., ['e', ...]]\n",
      "\n",
      "[['la', 'mi', 'la', 'mi', 'la', 'mi', ..., 'mi', 'la', 'mi', 'la', 'mi'], ...]\n"
     ]
    }
   ],
   "source": [
    "# unzip on awkward\n",
    "numbers = ak.Array([[1, 2, 3], [], [5, 7], [11]])\n",
    "letters = ak.Array([[\"a\", \"b\"], [\"c\"], [\"d\"], [\"e\", \"f\"]])\n",
    "notes = ak.Array([[\"la\", \"mi\"], [\"ci\"], [\"do\"], [\"re\", \"fa\"]])\n",
    "\n",
    "trios = ak.cartesian((numbers, letters,notes))\n",
    "# print(trios)\n",
    "trios.show()\n",
    "print()\n",
    "\n",
    "numbers,letters,notes = ak.unzip(trios)\n",
    "print(numbers)\n",
    "print()\n",
    "print(letters)\n",
    "print()\n",
    "print(notes)\n"
   ]
  },
  {
   "cell_type": "code",
   "execution_count": 15,
   "id": "ecf88f1a",
   "metadata": {},
   "outputs": [
    {
     "name": "stdout",
     "output_type": "stream",
     "text": [
      "[[{number: 1, letter: 'a', note: 'la'}, ..., {number: 3, letter: 'b', ...}],\n",
      " [],\n",
      " [{number: 5, letter: 'd', note: 'do'}, {number: 7, letter: 'd', ...}],\n",
      " [{number: 11, letter: 'e', note: 're'}, ..., {number: 11, letter: 'f', ...}]]\n",
      "\n",
      "[[(1, 'a', 'la'), (1, 'a', 'mi'), (...), ..., (3, 'b', 'la'), (3, 'b', 'mi')],\n",
      " [],\n",
      " [(5, 'd', 'do'), (7, 'd', 'do')],\n",
      " [(11, 'e', 're'), (11, 'e', 'fa'), (11, 'f', 're'), (11, 'f', 'fa')]]\n"
     ]
    }
   ],
   "source": [
    "ak.zip({\"number\":numbers,\"letter\":letters,\"note\":notes}).show()\n",
    "print()\n",
    "ak.zip([numbers,letters,notes]).show()"
   ]
  },
  {
   "cell_type": "code",
   "execution_count": 16,
   "id": "32931b61",
   "metadata": {},
   "outputs": [],
   "source": [
    "one = ak.Array([[1.1, 2.2, 3.3], [], [4.4, 5.5], [6.6],])\n",
    "two = ak.Array([[\"a\", \"b\", \"c\"], [], [\"d\", \"e\"], [\"f\"]])\n"
   ]
  },
  {
   "cell_type": "code",
   "execution_count": 17,
   "id": "02426505",
   "metadata": {},
   "outputs": [
    {
     "name": "stdout",
     "output_type": "stream",
     "text": [
      "[[(1.1, 'a', 100), (2.2, 'b', 100), (3.3, 'c', 100)],\n",
      " [],\n",
      " [(4.4, 'd', 300), (5.5, 'e', 300)],\n",
      " [(6.6, 'f', 400)]]\n"
     ]
    }
   ],
   "source": [
    "three = ak.Array([100,200,300,400])\n",
    "ak.zip([one,two,three]).show()"
   ]
  },
  {
   "cell_type": "code",
   "execution_count": 18,
   "id": "66e549e8",
   "metadata": {},
   "outputs": [
    {
     "name": "stdout",
     "output_type": "stream",
     "text": [
      "[([1.1, 2.2, 3.3], ['a', 'b', 'c'], []),\n",
      " ([], [], 200),\n",
      " ([4.4, 5.5], ['d', 'e'], 300),\n",
      " ([6.6], ['f'], 400)]\n"
     ]
    }
   ],
   "source": [
    "three = ak.Array([[],200,300,400])\n",
    "ak.zip([one,two,three],depth_limit=1).show()"
   ]
  }
 ],
 "metadata": {
  "kernelspec": {
   "display_name": "Python 3",
   "language": "python",
   "name": "python3"
  },
  "language_info": {
   "codemirror_mode": {
    "name": "ipython",
    "version": 3
   },
   "file_extension": ".py",
   "mimetype": "text/x-python",
   "name": "python",
   "nbconvert_exporter": "python",
   "pygments_lexer": "ipython3",
   "version": "3.13.5"
  }
 },
 "nbformat": 4,
 "nbformat_minor": 5
}
