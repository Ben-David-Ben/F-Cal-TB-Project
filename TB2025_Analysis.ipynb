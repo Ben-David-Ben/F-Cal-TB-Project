{
 "cells": [
  {
   "cell_type": "code",
   "execution_count": 74,
   "id": "ee0a370e",
   "metadata": {},
   "outputs": [],
   "source": [
    "import numpy as np\n",
    "import matplotlib.pylab as plt\n",
    "import uproot\n",
    "import awkward as ak"
   ]
  },
  {
   "cell_type": "markdown",
   "id": "d8164b1a",
   "metadata": {},
   "source": [
    "<span style=\"font-family: Comic Sans MS; font-size:25px; color:orange\">\n",
    "\n",
    "Open Root File"
   ]
  },
  {
   "cell_type": "code",
   "execution_count": 76,
   "id": "495a7f78",
   "metadata": {},
   "outputs": [],
   "source": [
    "# load root file\n",
    "\n",
    "infile_name = 'TB_FIRE_1101_hits.root'\n",
    "infile = uproot.open(infile_name)"
   ]
  },
  {
   "cell_type": "code",
   "execution_count": 77,
   "id": "416c1091",
   "metadata": {},
   "outputs": [
    {
     "name": "stdout",
     "output_type": "stream",
     "text": [
      "<class 'uproot.reading.ReadOnlyDirectory'>\n",
      "['Hits;1']\n",
      "<class 'uproot.models.TTree.Model_TTree_v20'>\n",
      "name                 | typename                 | interpretation                \n",
      "---------------------+--------------------------+-------------------------------\n",
      "TLU_number           | uint64_t                 | AsDtype('>u8')\n",
      "timestamp            | std::vector<uint64_t>    | AsJagged(AsDtype('>u8'), he...\n",
      "plane_ID             | std::vector<int32_t>     | AsJagged(AsDtype('>i4'), he...\n",
      "ch_ID                | std::vector<int32_t>     | AsJagged(AsDtype('>i4'), he...\n",
      "amplitude            | std::vector<int32_t>     | AsJagged(AsDtype('>i4'), he...\n",
      "toa                  | std::vector<int32_t>     | AsJagged(AsDtype('>i4'), he...\n"
     ]
    }
   ],
   "source": [
    "# get headings\n",
    "\n",
    "print(type(infile))\n",
    "keys = infile.keys()\n",
    "print(keys)\n",
    "\n",
    "hits = infile['Hits']\n",
    "print(type(hits))\n",
    "hits.show()"
   ]
  },
  {
   "cell_type": "code",
   "execution_count": 78,
   "id": "0922420e",
   "metadata": {},
   "outputs": [
    {
     "name": "stdout",
     "output_type": "stream",
     "text": [
      "TLU_number           <TBranch 'TLU_number' at 0x01671e6447c0>\n",
      "timestamp            <TBranchElement 'timestamp' at 0x016718d91250>\n",
      "plane_ID             <TBranchElement 'plane_ID' at 0x01671e618830>\n",
      "ch_ID                <TBranchElement 'ch_ID' at 0x01671e619370>\n",
      "amplitude            <TBranchElement 'amplitude' at 0x01671b2327b0>\n",
      "toa                  <TBranchElement 'toa' at 0x01671e619eb0>\n"
     ]
    },
    {
     "data": {
      "text/plain": [
       "<TBranch 'TLU_number' at 0x01671e6447c0>"
      ]
     },
     "execution_count": 78,
     "metadata": {},
     "output_type": "execute_result"
    }
   ],
   "source": [
    "# expand branches within headings(keys) \n",
    "\n",
    "# branches = infile['Hits'].keys()\n",
    "branches = hits.keys()\n",
    "\n",
    "for branch in branches:\n",
    "    print(f\"{branch:20s} {infile['Hits'][branch]}\")\n",
    "\n",
    "# extract specific branch\n",
    "pt = infile['Hits']['TLU_number']\n",
    "pt"
   ]
  },
  {
   "cell_type": "markdown",
   "id": "784df88a",
   "metadata": {},
   "source": [
    "<span style=\"font-family: Comic Sans MS; font-size:25px; color:orange\">\n",
    "\n",
    "Read Data In Root File Using Awkward"
   ]
  },
  {
   "cell_type": "code",
   "execution_count": 79,
   "id": "08aad0cf",
   "metadata": {},
   "outputs": [
    {
     "data": {
      "text/plain": [
       "45"
      ]
     },
     "execution_count": 79,
     "metadata": {},
     "output_type": "execute_result"
    }
   ],
   "source": [
    "# hits['ch_ID'].array(entry_start=10, entry_stop=20)\n",
    "plane_array = hits['plane_ID'].array()\n",
    "len(plane_array[63])"
   ]
  },
  {
   "cell_type": "code",
   "execution_count": 80,
   "id": "b06b016b",
   "metadata": {},
   "outputs": [],
   "source": [
    "tlu = hits['TLU_number']\n",
    "amp = hits['amplitude']\n",
    "toa = hits['toa']\n",
    "time = hits['timestamp']\n",
    "plane = hits['plane_ID']\n",
    "channel = hits['ch_ID']\n",
    "\n",
    "\n",
    "\n",
    "# print(amp.array())\n",
    "# print()\n",
    "\n",
    "# print(len(amp.array()))\n",
    "# print()\n",
    "\n"
   ]
  },
  {
   "cell_type": "code",
   "execution_count": 81,
   "id": "bbe5216c",
   "metadata": {},
   "outputs": [
    {
     "name": "stdout",
     "output_type": "stream",
     "text": [
      "[39, 27, 183, 73, 435, 83, 38, 63, 32, ..., 70, 56, 107, 53, 356, 61, 29, 67]\n"
     ]
    },
    {
     "data": {
      "text/plain": [
       "Text(0, 0.5, 'Counts')"
      ]
     },
     "execution_count": 81,
     "metadata": {},
     "output_type": "execute_result"
    },
    {
     "data": {
      "image/png": "[encoded data removed]",
      "text/plain": [
       "<Figure size 640x480 with 1 Axes>"
      ]
     },
     "metadata": {},
     "output_type": "display_data"
    }
   ],
   "source": [
    "# creating an hitsogram using ak flattening\n",
    "\n",
    "\n",
    "\n",
    "print(ak.flatten(amp.array()))\n",
    "plt.figure()\n",
    "plt.hist(ak.flatten(amp.array()),bins=100,range=(0,100))\n",
    "plt.grid()\n",
    "plt.title('Amplitude of Hits',fontsize=16)\n",
    "plt.xlabel(r'Amplitude',fontsize=14)\n",
    "plt.ylabel('Counts',fontsize=14)\n"
   ]
  },
  {
   "cell_type": "code",
   "execution_count": 82,
   "id": "fc60f8d6",
   "metadata": {},
   "outputs": [
    {
     "name": "stdout",
     "output_type": "stream",
     "text": [
      "[(1, 2, 3),\n",
      " (1, 2, 4),\n",
      " (1, 2, 5),\n",
      " (1, 3, 4),\n",
      " (1, 3, 5),\n",
      " (1, 4, 5),\n",
      " (2, 3, 4),\n",
      " (2, 3, 5),\n",
      " (2, 4, 5),\n",
      " (3, 4, 5)]\n",
      "\n",
      "[[(1, 2, 3), (1, 2, 4), (1, 3, 4), (2, 3, 4)],\n",
      " [(20, 40, 50)],\n",
      " [],\n",
      " []]\n"
     ]
    }
   ],
   "source": [
    "# use awkward to show all compbinations (permutations) to organize elements from an array in n sized list\n",
    "a = ak.Array([1,2,3,4,5])\n",
    "n = 3\n",
    "ak.combinations(a, n, axis=0).show()\n",
    "\n",
    "print()\n",
    "\n",
    "# can also work simultaneousley on different sized sub arrays\n",
    "b = ak.Array([[1,2,3,4], [20,40,50], [5,6], []])\n",
    "ak.combinations(b, n).show()"
   ]
  },
  {
   "cell_type": "code",
   "execution_count": 83,
   "id": "0d196b27",
   "metadata": {},
   "outputs": [
    {
     "name": "stdout",
     "output_type": "stream",
     "text": [
      "[[{x: 1, y: 2}, {x: 1, y: 3}, {x: 2, y: 3}],\n",
      " [{x: 40, y: 50}]]\n"
     ]
    }
   ],
   "source": [
    "# create a set of values (x and y)\n",
    "c = ak.Array([[1,2,3],[40,50]])\n",
    "ak.combinations(c, 2, fields=[\"x\", \"y\"]).show()"
   ]
  },
  {
   "cell_type": "code",
   "execution_count": 92,
   "id": "1f28eaa5",
   "metadata": {},
   "outputs": [
    {
     "name": "stdout",
     "output_type": "stream",
     "text": [
      "[[(1, 'a', 'la'), (1, 'a', 'mi'), (...), ..., (3, 'b', 'la'), (3, 'b', 'mi')],\n",
      " [],\n",
      " [(5, 'd', 'do'), (7, 'd', 'do')],\n",
      " [(11, 'e', 're'), (11, 'e', 'fa'), (11, 'f', 're'), (11, 'f', 'fa')]]\n",
      "\n",
      "[[1, 1, 1, 1, 2, 2, 2, 2, 3, 3, 3, 3], [], [5, 7], [11, 11, 11, 11]]\n",
      "\n",
      "[['a', 'a', 'b', 'b', 'a', 'a', 'b', 'b', 'a', 'a', 'b', 'b'], ..., ['e', ...]]\n",
      "\n",
      "[['la', 'mi', 'la', 'mi', 'la', 'mi', ..., 'mi', 'la', 'mi', 'la', 'mi'], ...]\n"
     ]
    }
   ],
   "source": [
    "# unzip on awkward\n",
    "numbers = ak.Array([[1, 2, 3], [], [5, 7], [11]])\n",
    "letters = ak.Array([[\"a\", \"b\"], [\"c\"], [\"d\"], [\"e\", \"f\"]])\n",
    "notes = ak.Array([[\"la\", \"mi\"], [\"ci\"], [\"do\"], [\"re\", \"fa\"]])\n",
    "\n",
    "trios = ak.cartesian((numbers, letters,notes))\n",
    "# print(trios)\n",
    "trios.show()\n",
    "print()\n",
    "\n",
    "numbers,letters,notes = ak.unzip(trios)\n",
    "print(numbers)\n",
    "print()\n",
    "print(letters)\n",
    "print()\n",
    "print(notes)\n"
   ]
  },
  {
   "cell_type": "code",
   "execution_count": 102,
   "id": "ecf88f1a",
   "metadata": {},
   "outputs": [
    {
     "name": "stdout",
     "output_type": "stream",
     "text": [
      "[[{number: 1, letter: 'a', note: 'la'}, ..., {number: 3, letter: 'b', ...}],\n",
      " [],\n",
      " [{number: 5, letter: 'd', note: 'do'}, {number: 7, letter: 'd', ...}],\n",
      " [{number: 11, letter: 'e', note: 're'}, ..., {number: 11, letter: 'f', ...}]]\n",
      "\n",
      "[[(1, 'a', 'la'), (1, 'a', 'mi'), (...), ..., (3, 'b', 'la'), (3, 'b', 'mi')],\n",
      " [],\n",
      " [(5, 'd', 'do'), (7, 'd', 'do')],\n",
      " [(11, 'e', 're'), (11, 'e', 'fa'), (11, 'f', 're'), (11, 'f', 'fa')]]\n"
     ]
    }
   ],
   "source": [
    "ak.zip({\"number\":numbers,\"letter\":letters,\"note\":notes}).show()\n",
    "print()\n",
    "ak.zip([numbers,letters,notes]).show()"
   ]
  },
  {
   "cell_type": "code",
   "execution_count": 132,
   "id": "32931b61",
   "metadata": {},
   "outputs": [],
   "source": [
    "one = ak.Array([[1.1, 2.2, 3.3], [], [4.4, 5.5], [6.6],])\n",
    "two = ak.Array([[\"a\", \"b\", \"c\"], [], [\"d\", \"e\"], [\"f\"]])\n"
   ]
  },
  {
   "cell_type": "code",
   "execution_count": 138,
   "id": "02426505",
   "metadata": {},
   "outputs": [
    {
     "name": "stdout",
     "output_type": "stream",
     "text": [
      "[[(1.1, 'a', 100), (2.2, 'b', 100), (3.3, 'c', 100)],\n",
      " [],\n",
      " [(4.4, 'd', 300), (5.5, 'e', 300)],\n",
      " [(6.6, 'f', 400)]]\n"
     ]
    }
   ],
   "source": [
    "three = ak.Array([100,200,300,400])\n",
    "ak.zip([one,two,three]).show()"
   ]
  },
  {
   "cell_type": "code",
   "execution_count": null,
   "id": "66e549e8",
   "metadata": {},
   "outputs": [
    {
     "name": "stdout",
     "output_type": "stream",
     "text": [
      "[([1.1, 2.2, 3.3], ['a', 'b', 'c'], []),\n",
      " ([], [], 200),\n",
      " ([4.4, 5.5], ['d', 'e'], 300),\n",
      " ([6.6], ['f'], 400)]\n"
     ]
    }
   ],
   "source": [
    "three = ak.Array([[],200,300,400])\n",
    "ak.zip([one,two,three],depth_limit=1).show()"
   ]
  }
 ],
 "metadata": {
  "kernelspec": {
   "display_name": "Python 3",
   "language": "python",
   "name": "python3"
  },
  "language_info": {
   "codemirror_mode": {
    "name": "ipython",
    "version": 3
   },
   "file_extension": ".py",
   "mimetype": "text/x-python",
   "name": "python",
   "nbconvert_exporter": "python",
   "pygments_lexer": "ipython3",
   "version": "3.13.5"
  }
 },
 "nbformat": 4,
 "nbformat_minor": 5
}
