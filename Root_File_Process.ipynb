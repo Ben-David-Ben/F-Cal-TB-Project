{
 "cells": [
  {
   "cell_type": "code",
   "execution_count": 1,
   "id": "c743891a",
   "metadata": {},
   "outputs": [],
   "source": [
    "# Imports\n",
    "\n",
    "import numpy as np\n",
    "import matplotlib.pylab as plt\n",
    "import uproot\n",
    "import awkward as ak\n",
    "import time"
   ]
  },
  {
   "cell_type": "markdown",
   "id": "d8164b1a",
   "metadata": {},
   "source": [
    "<span style=\"font-family: Comic Sans MS; font-size:25px; color:orange\">\n",
    "\n",
    "Open Root File"
   ]
  },
  {
   "cell_type": "code",
   "execution_count": null,
   "id": "495a7f78",
   "metadata": {},
   "outputs": [],
   "source": [
    "# load root file\n",
    "\n",
    "infile_name = 'TB_FIRE_1101_hits.root'\n",
    "infile = uproot.open(infile_name)"
   ]
  },
  {
   "cell_type": "code",
   "execution_count": null,
   "id": "416c1091",
   "metadata": {},
   "outputs": [
    {
     "name": "stdout",
     "output_type": "stream",
     "text": [
      "<class 'uproot.reading.ReadOnlyDirectory'>\n",
      "['Hits;1']\n",
      "<class 'uproot.models.TTree.Model_TTree_v20'>\n"
     ]
    }
   ],
   "source": [
    "# get headings\n",
    "\n",
    "print(type(infile))\n",
    "keys = infile.keys()\n",
    "print(keys)\n",
    "\n",
    "hits = infile['Hits']\n",
    "print(type(hits))"
   ]
  },
  {
   "cell_type": "code",
   "execution_count": null,
   "id": "0922420e",
   "metadata": {},
   "outputs": [
    {
     "name": "stdout",
     "output_type": "stream",
     "text": [
      "TLU_number           <TBranch 'TLU_number' at 0x011ac14747f0>\n",
      "timestamp            <TBranchElement 'timestamp' at 0x011ac1519bb0>\n",
      "plane_ID             <TBranchElement 'plane_ID' at 0x011ac1519280>\n",
      "ch_ID                <TBranchElement 'ch_ID' at 0x011ac1504b20>\n",
      "amplitude            <TBranchElement 'amplitude' at 0x011ac151c070>\n",
      "toa                  <TBranchElement 'toa' at 0x011ac151c9d0>\n"
     ]
    },
    {
     "data": {
      "text/plain": [
       "<TBranch 'TLU_number' at 0x011ac14747f0>"
      ]
     },
     "execution_count": 8,
     "metadata": {},
     "output_type": "execute_result"
    }
   ],
   "source": [
    "# expand branches within headings(keys) \n",
    "\n",
    "branches = infile['Hits'].keys()\n",
    "\n",
    "for branch in branches:\n",
    "    print(f\"{branch:20s} {infile['Hits'][branch]}\")\n",
    "\n",
    "# extract specific branch\n",
    "pt = infile['Hits']['TLU_number']\n",
    "pt"
   ]
  },
  {
   "cell_type": "markdown",
   "id": "784df88a",
   "metadata": {},
   "source": [
    "<span style=\"font-family: Comic Sans MS; font-size:25px; color:orange\">\n",
    "\n",
    "Read Data In Root File Using Awkward"
   ]
  },
  {
   "cell_type": "code",
   "execution_count": 11,
   "id": "b06b016b",
   "metadata": {},
   "outputs": [
    {
     "name": "stdout",
     "output_type": "stream",
     "text": [
      "<TBranchElement 'amplitude' at 0x011ac151c070>\n",
      "\n",
      "[[39, 27, 183, 73, 435, 83, 38, 63, ..., 71, 558, 48, 156, 20, 161, 155], ...]\n",
      "\n",
      "2356797\n",
      "\n",
      "[39, 27, 183, 73, 435, 83, 38, 63, 32, ..., 27, 71, 558, 48, 156, 20, 161, 155]\n",
      "[13, 30, 81, 100, 471, 398, 29, 88, 41, ..., 227, 50, 29, 45, 108, 19, 54, 28]\n",
      "[17, 35, 26, 11, 406, 232, 82, 80, 17, ..., 55, 47, 70, 54, 80, 208, 18, 89]\n",
      "[87, 55, 530, 57, 116, 153, 32, 25, ..., 11, 12, 14, 67, 129, 350, 184, 130]\n",
      "[50, 265, 72, 136, 79, 107, 30, 379, ..., 33, 125, 133, 26, 33, 409, 96, 83]\n"
     ]
    }
   ],
   "source": [
    "pt = hits['TLU_number']\n",
    "amp = hits['amplitude']\n",
    "toa = hits['toa']\n",
    "\n",
    "print(amp)\n",
    "print()\n",
    "\n",
    "\n",
    "print(amp.array())\n",
    "print()\n",
    "\n",
    "print(len(amp.array()))\n",
    "print()\n",
    "\n",
    "for i in range(5):\n",
    "    print(amp.array()[i])\n",
    "\n"
   ]
  },
  {
   "cell_type": "code",
   "execution_count": 13,
   "id": "bbe5216c",
   "metadata": {},
   "outputs": [
    {
     "name": "stdout",
     "output_type": "stream",
     "text": [
      "[39, 27, 183, 73, 435, 83, 38, 63, 32, ..., 70, 56, 107, 53, 356, 61, 29, 67]\n"
     ]
    },
    {
     "data": {
      "text/plain": [
       "Text(0.5, 0, 'Amplitude')"
      ]
     },
     "execution_count": 13,
     "metadata": {},
     "output_type": "execute_result"
    },
    {
     "data": {
      "image/png": "[encoded data removed]",
      "text/plain": [
       "<Figure size 640x480 with 1 Axes>"
      ]
     },
     "metadata": {},
     "output_type": "display_data"
    }
   ],
   "source": [
    "# creating an hitsogram using ak flattening\n",
    "\n",
    "print(ak.flatten(amp.array()))\n",
    "\n",
    "plt.figure()\n",
    "plt.hist(ak.flatten(amp.array()),bins=100,range=(0,100))\n",
    "plt.xlabel(r'Amplitude',fontsize=14)"
   ]
  }
 ],
 "metadata": {
  "kernelspec": {
   "display_name": "Python 3",
   "language": "python",
   "name": "python3"
  },
  "language_info": {
   "codemirror_mode": {
    "name": "ipython",
    "version": 3
   },
   "file_extension": ".py",
   "mimetype": "text/x-python",
   "name": "python",
   "nbconvert_exporter": "python",
   "pygments_lexer": "ipython3",
   "version": "3.9.13"
  }
 },
 "nbformat": 4,
 "nbformat_minor": 5
}
