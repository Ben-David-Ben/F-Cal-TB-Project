{
 "cells": [
  {
   "cell_type": "code",
   "execution_count": 12,
   "id": "2658692d",
   "metadata": {},
   "outputs": [],
   "source": [
    "import numpy as np\n",
    "import matplotlib.pylab as plt\n",
    "import uproot\n",
    "import awkward as ak\n",
    "import seaborn\n",
    "import RA_funcs as RAF"
   ]
  },
  {
   "cell_type": "markdown",
   "id": "add8a9da",
   "metadata": {},
   "source": [
    "<span style=\"font-family: arial; font-size:25px; color:pink\">\n",
    "\n",
    "Open ROOT file and extract data"
   ]
  },
  {
   "cell_type": "code",
   "execution_count": 13,
   "id": "f904c63d",
   "metadata": {},
   "outputs": [
    {
     "name": "stdout",
     "output_type": "stream",
     "text": [
      "['Hits;1']\n",
      "name                 | typename                 | interpretation                \n",
      "---------------------+--------------------------+-------------------------------\n",
      "TLU_number           | uint64_t                 | AsDtype('>u8')\n",
      "timestamp            | std::vector<uint64_t>    | AsJagged(AsDtype('>u8'), he...\n",
      "plane_ID             | std::vector<int32_t>     | AsJagged(AsDtype('>i4'), he...\n",
      "ch_ID                | std::vector<int32_t>     | AsJagged(AsDtype('>i4'), he...\n",
      "amplitude            | std::vector<int32_t>     | AsJagged(AsDtype('>i4'), he...\n",
      "toa                  | std::vector<int32_t>     | AsJagged(AsDtype('>i4'), he...\n"
     ]
    }
   ],
   "source": [
    "# load root file\n",
    "\n",
    "infile_name = 'TB_FIRE_1101_hits.root'\n",
    "infile = uproot.open(infile_name)\n",
    "\n",
    "# get headings\n",
    "\n",
    "keys = infile.keys()\n",
    "print(keys)\n",
    "\n",
    "hits = infile['Hits']\n",
    "hits.show()\n",
    "\n",
    "# sort all the characteristics of the run in arrays\n",
    "tlu = hits['TLU_number'].array()\n",
    "amp = hits['amplitude'].array()\n",
    "toa = hits['toa'].array()\n",
    "time = hits['timestamp'].array()\n",
    "plane = hits['plane_ID'].array()\n",
    "channel = hits['ch_ID'].array()\n"
   ]
  },
  {
   "cell_type": "code",
   "execution_count": 14,
   "id": "682cf1c2",
   "metadata": {},
   "outputs": [
    {
     "name": "stdout",
     "output_type": "stream",
     "text": [
      "[{plane: 5, ch: 164, amp: 29},\n",
      " {plane: 5, ch: 185, amp: 67}]\n",
      "############\n",
      "[[{plane: 0, ch: 128, amp: 39}, {...}, ..., {plane: 7, ch: 164, amp: 155}],\n",
      " [{plane: 0, ch: 126, amp: 13}, {...}, ..., {plane: 6, ch: 184, amp: 28}],\n",
      " [{plane: 0, ch: 166, amp: 17}, {...}, ..., {plane: 7, ch: 186, amp: 89}],\n",
      " [{plane: 0, ch: 164, amp: 87}, {...}, ..., {plane: 7, ch: 184, amp: 130}],\n",
      " [{plane: 0, ch: 102, amp: 50}, {...}, ..., {plane: 7, ch: 163, amp: 83}],\n",
      " [{plane: 0, ch: 120, amp: 21}, {...}, ..., {plane: 7, ch: 165, amp: 230}],\n",
      " [{plane: 0, ch: 105, amp: 52}, {...}, ..., {plane: 7, ch: 145, amp: 168}],\n",
      " [{plane: 0, ch: 144, amp: 12}, {...}, ..., {plane: 7, ch: 167, amp: 23}],\n",
      " [{plane: 0, ch: 125, amp: 35}, {...}, ..., {plane: 7, ch: 166, amp: 117}],\n",
      " [{plane: 0, ch: 87, amp: 17}, {...}, ..., {...}, {plane: 7, ch: 145, amp: 32}],\n",
      " ...,\n",
      " [{plane: 5, ch: 169, amp: 21}, {...}, ..., {plane: 6, ch: 183, amp: 248}],\n",
      " [{plane: 5, ch: 28, amp: 164}, {...}, ..., {plane: 6, ch: 203, amp: 16}],\n",
      " [{plane: 5, ch: 70, amp: 52}, {plane: 5, ch: 165, amp: 175}],\n",
      " [{plane: 5, ch: 124, amp: 33}, {...}, ..., {plane: 5, ch: 165, amp: 48}],\n",
      " [{plane: 5, ch: 77, amp: 14}, {...}, ..., {...}, {plane: 5, ch: 206, amp: 43}],\n",
      " [{plane: 5, ch: 125, amp: 43}, {...}, ..., {plane: 5, ch: 165, amp: 151}],\n",
      " [{plane: 5, ch: 77, amp: 13}, {...}, ..., {...}, {plane: 5, ch: 208, amp: 31}],\n",
      " [{plane: 5, ch: 77, amp: 12}, {...}, ..., {...}, {plane: 5, ch: 204, amp: 61}],\n",
      " [{plane: 5, ch: 164, amp: 29}, {plane: 5, ch: 185, amp: 67}]]\n"
     ]
    },
    {
     "data": {
      "text/plain": [
       "awkward.highlevel.Array"
      ]
     },
     "execution_count": 14,
     "metadata": {},
     "output_type": "execute_result"
    }
   ],
   "source": [
    "# create data of paramaters for each hit in the run\n",
    "\n",
    "tlu_number = -1 # TLU is the event number in the run\n",
    "\n",
    "# some printing to make sure that the zip works right for the arrays of all runs\n",
    "# print((\"plane:\",plane[tlu_number],\"ch\",channel[tlu_number], \" amp\",amp[tlu_number]))\n",
    "# print(\"######################\")\n",
    "# print(\"plane:\", plane,\"ch\", channel, \"amp\", amp)\n",
    "# print(\"##################\")\n",
    "\n",
    "\n",
    "hit_data_single_event = ak.zip({\"plane\":plane[tlu_number],\"ch\":channel[tlu_number], \"amp\":amp[tlu_number]})\n",
    "hit_data = ak.zip({ \"plane\":plane, \"ch\":channel, \"amp\":amp})\n",
    "# hit_data = ak.zip([amp[10], plane[10], channel[10]])\n",
    "\n",
    "\n",
    "hit_data_single_event.show()\n",
    "print(\"############\")\n",
    "hit_data.show()\n",
    "type(hit_data)"
   ]
  },
  {
   "cell_type": "code",
   "execution_count": 15,
   "id": "cc0399ad",
   "metadata": {},
   "outputs": [],
   "source": [
    "# create a function to extract arrays from ROOT file and zip them for every hit\n",
    "def get_ROOT_data_zip(file_name, tlu = \"false\", time = \"false\", toa = \"false\" ):\n",
    "\n",
    "    # open the file\n",
    "    infile = uproot.open(file_name)\n",
    "    print(\"Folders:\", infile.keys())\n",
    "    print()\n",
    "\n",
    "    # open the first \"folder\" hits\n",
    "    hits = infile['Hits']\n",
    "    print(\"Hits:\")\n",
    "    hits.show()\n",
    "\n",
    "    # create the arrays from all data\n",
    "    amp = hits['amplitude'].array()\n",
    "    plane = hits['plane_ID'].array()\n",
    "    channel = hits['ch_ID'].array()\n",
    "    if tlu == \"true\":\n",
    "        tlu = hits['TLU_number'].array()\n",
    "    if toa == \"true\":\n",
    "        toa = hits['toa'].array()\n",
    "    if time == \"true\":\n",
    "        time = hits['timestamp'].array()\n",
    "\n",
    "    # create a zipped array of data for every hit(reading in the sensor)\n",
    "    hit_data = ak.zip({ \"plane\":plane, \"ch\":channel, \"amp\":amp})\n",
    "\n",
    "    return hit_data"
   ]
  },
  {
   "cell_type": "code",
   "execution_count": null,
   "id": "db25ea11",
   "metadata": {},
   "outputs": [
    {
     "name": "stdout",
     "output_type": "stream",
     "text": [
      "Folders: ['Hits;1']\n",
      "\n",
      "Hits:\n",
      "name                 | typename                 | interpretation                \n",
      "---------------------+--------------------------+-------------------------------\n",
      "TLU_number           | uint64_t                 | AsDtype('>u8')\n",
      "timestamp            | std::vector<uint64_t>    | AsJagged(AsDtype('>u8'), he...\n",
      "plane_ID             | std::vector<int32_t>     | AsJagged(AsDtype('>i4'), he...\n",
      "ch_ID                | std::vector<int32_t>     | AsJagged(AsDtype('>i4'), he...\n",
      "amplitude            | std::vector<int32_t>     | AsJagged(AsDtype('>i4'), he...\n",
      "toa                  | std::vector<int32_t>     | AsJagged(AsDtype('>i4'), he...\n"
     ]
    }
   ],
   "source": [
    "file_name = \"TB_FIRE_1101_hits.root\"\n",
    "hit_data_1101 = get_ROOT_data_zip(file_name)"
   ]
  },
  {
   "cell_type": "code",
   "execution_count": 45,
   "id": "d709708e",
   "metadata": {},
   "outputs": [
    {
     "name": "stdout",
     "output_type": "stream",
     "text": [
      "[[{plane: 0, ch: 128, amp: 39}, {...}, ..., {plane: 7, ch: 164, amp: 155}],\n",
      " [{plane: 0, ch: 126, amp: 13}, {...}, ..., {plane: 6, ch: 184, amp: 28}],\n",
      " [{plane: 0, ch: 166, amp: 17}, {...}, ..., {plane: 7, ch: 186, amp: 89}],\n",
      " [{plane: 0, ch: 164, amp: 87}, {...}, ..., {plane: 7, ch: 184, amp: 130}],\n",
      " [{plane: 0, ch: 102, amp: 50}, {...}, ..., {plane: 7, ch: 163, amp: 83}],\n",
      " [{plane: 0, ch: 120, amp: 21}, {...}, ..., {plane: 7, ch: 165, amp: 230}],\n",
      " [{plane: 0, ch: 105, amp: 52}, {...}, ..., {plane: 7, ch: 145, amp: 168}],\n",
      " [{plane: 0, ch: 144, amp: 12}, {...}, ..., {plane: 7, ch: 167, amp: 23}],\n",
      " [{plane: 0, ch: 125, amp: 35}, {...}, ..., {plane: 7, ch: 166, amp: 117}],\n",
      " [{plane: 0, ch: 87, amp: 17}, {...}, ..., {...}, {plane: 7, ch: 145, amp: 32}],\n",
      " ...,\n",
      " [{plane: 5, ch: 169, amp: 21}, {...}, ..., {plane: 6, ch: 183, amp: 248}],\n",
      " [{plane: 5, ch: 28, amp: 164}, {...}, ..., {plane: 6, ch: 203, amp: 16}],\n",
      " [{plane: 5, ch: 70, amp: 52}, {plane: 5, ch: 165, amp: 175}],\n",
      " [{plane: 5, ch: 124, amp: 33}, {...}, ..., {plane: 5, ch: 165, amp: 48}],\n",
      " [{plane: 5, ch: 77, amp: 14}, {...}, ..., {...}, {plane: 5, ch: 206, amp: 43}],\n",
      " [{plane: 5, ch: 125, amp: 43}, {...}, ..., {plane: 5, ch: 165, amp: 151}],\n",
      " [{plane: 5, ch: 77, amp: 13}, {...}, ..., {...}, {plane: 5, ch: 208, amp: 31}],\n",
      " [{plane: 5, ch: 77, amp: 12}, {...}, ..., {...}, {plane: 5, ch: 204, amp: 61}],\n",
      " [{plane: 5, ch: 164, amp: 29}, {plane: 5, ch: 185, amp: 67}]]\n",
      "{plane: 6,\n",
      " ch: 184,\n",
      " amp: 28}\n"
     ]
    }
   ],
   "source": [
    "# hit_data[hit_data.plane == 7].show()\n",
    "hit_data.show()\n",
    "hit_data[1][-1].show()"
   ]
  },
  {
   "cell_type": "code",
   "execution_count": 22,
   "id": "3ed637c7",
   "metadata": {},
   "outputs": [],
   "source": [
    "def hits_amount_colormap_single_plane(hit_data, plane_number, cmap=\"berlin\"):\n",
    "    \n",
    "    # get only the hits on the wanted plane\n",
    "    hits_plane_n = hit_data[hit_data.plane == plane_number]\n",
    "\n",
    "    # get only the channels data and clean the array from empty cells\n",
    "    clean_plane_n_ch = hits_plane_n.ch[ak.num(hits_plane_n.ch) > 0]\n",
    "\n",
    "    # count the amount of hits in each pad on the plane\n",
    "    pads_1d, counts = np.unique(ak.flatten(clean_plane_n_ch), axis=0, return_counts=True)\n",
    "\n",
    "    # convert the 1d index of the pads into 2d coordinates\n",
    "    pads_2d = divmod(pads_1d, 20)\n",
    "\n",
    "    # distribute the counts for each pad on a 12x20 matrix\n",
    "    counts_matrix = np.zeros((13, 20))\n",
    "    for i in range(len(pads_1d)):\n",
    "        q = pads_2d[0][i] # quotinent of the i'th pad (row from bottom)\n",
    "        r = pads_2d[1][i] # remainder of the i'th pad (column)\n",
    "        counts_matrix[-1-q][r] = counts[i]\n",
    "\n",
    "    # creat the colormap\n",
    "    seaborn.heatmap(counts_matrix, cmap=cmap, linewidths=0.5, cbar_kws={'label': 'Hit Counts'})\n",
    "    plt.title(f'Number of Hits in each channel, plane {plane_number}')\n",
    "    plt.axvline(x=12, color='purple', linestyle='--', linewidth=1)\n",
    "\n",
    "\n",
    "     "
   ]
  },
  {
   "cell_type": "code",
   "execution_count": null,
   "id": "53001307",
   "metadata": {},
   "outputs": [],
   "source": []
  },
  {
   "cell_type": "code",
   "execution_count": 26,
   "id": "dbad7eb6",
   "metadata": {},
   "outputs": [
    {
     "data": {
      "image/png": "[encoded data removed]",
      "text/plain": [
       "<Figure size 640x480 with 2 Axes>"
      ]
     },
     "metadata": {},
     "output_type": "display_data"
    }
   ],
   "source": [
    "hits_amount_colormap_single_plane(hit_data_1101, 0)"
   ]
  },
  {
   "cell_type": "code",
   "execution_count": 24,
   "id": "5585dae2",
   "metadata": {},
   "outputs": [],
   "source": [
    "def hits_amp_colormap_single_plane(hit_data, plane_number, cmap=\"berlin\"):\n",
    "    \n",
    "    # define the channel listing\n",
    "\n",
    "\n",
    "    # get only the hits on the wanted plane\n",
    "    hits_plane_n = hit_data[hit_data.plane == plane_number]\n",
    "\n",
    "    # clean data from empty cells\n",
    "    clean_plane_n = hits_plane_n[ak.num(hits_plane_n.ch) > 0]\n",
    "\n",
    "    # create channel(pads) matrix\n",
    "    counts_matrix = np.zeros((13, 20))\n",
    "    \n",
    "    # count the amplitude for every pad and add them to the channel matrix\n",
    "    for l in range(256):\n",
    "        plane_pad = clean_plane_n[clean_plane_n.ch == l]     # array with the data of channel l\n",
    "        clean_plane_pad = plane_pad[ak.num(plane_pad) > 0]   # clean from empty entries\n",
    "        plane_pad_amp = clean_plane_pad.amp                  # get only the amplitudes of the given pad in the plane\n",
    "        plane_pad_total_amp = ak.sum(plane_pad_amp)          # sum all the amplitudes\n",
    "        pad_2d = divmod(l, 20)                               # coordinates of the pad on the matrix\n",
    "        q = pad_2d[0]                                        # quotinent of the l'th pad (row from bottom)\n",
    "        r = pad_2d[1]                                        # remainder of the l'th pad (column)\n",
    "        counts_matrix[-1-q][r] = plane_pad_total_amp\n",
    "\n",
    "    \n",
    "    # creat the colormap\n",
    "    seaborn.heatmap(counts_matrix, cmap=cmap, linewidths=0.5, cbar_kws={'label': 'Hit Counts'})\n",
    "    plt.title(f'Total Amplitude in each channel, plane {plane_number}')\n",
    "    plt.axvline(x=12, color='purple', linestyle='--', linewidth=1)\n"
   ]
  },
  {
   "cell_type": "code",
   "execution_count": 25,
   "id": "d6870b41",
   "metadata": {},
   "outputs": [
    {
     "data": {
      "image/png": "[encoded data removed]",
      "text/plain": [
       "<Figure size 640x480 with 2 Axes>"
      ]
     },
     "metadata": {},
     "output_type": "display_data"
    }
   ],
   "source": [
    "hits_amp_colormap_single_plane(hit_data_1101, 0)"
   ]
  }
 ],
 "metadata": {
  "kernelspec": {
   "display_name": "Python 3",
   "language": "python",
   "name": "python3"
  },
  "language_info": {
   "codemirror_mode": {
    "name": "ipython",
    "version": 3
   },
   "file_extension": ".py",
   "mimetype": "text/x-python",
   "name": "python",
   "nbconvert_exporter": "python",
   "pygments_lexer": "ipython3",
   "version": "3.13.5"
  }
 },
 "nbformat": 4,
 "nbformat_minor": 5
}
