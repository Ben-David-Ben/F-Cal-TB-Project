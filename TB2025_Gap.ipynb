{
 "cells": [
  {
   "cell_type": "code",
   "execution_count": 1,
   "id": "2658692d",
   "metadata": {},
   "outputs": [
    {
     "name": "stdout",
     "output_type": "stream",
     "text": [
      "imports work\n"
     ]
    }
   ],
   "source": [
    "import numpy as np\n",
    "import matplotlib.pylab as plt\n",
    "import uproot\n",
    "import awkward as ak\n",
    "import seaborn\n",
    "import RA_funcs as rf\n",
    "from scipy.signal import find_peaks"
   ]
  },
  {
   "cell_type": "markdown",
   "id": "add8a9da",
   "metadata": {},
   "source": [
    "<span style=\"font-family: arial; font-size:25px; color:pink\">\n",
    "\n",
    "Open ROOT file and extract data"
   ]
  },
  {
   "cell_type": "code",
   "execution_count": 2,
   "id": "db25ea11",
   "metadata": {},
   "outputs": [
    {
     "name": "stdout",
     "output_type": "stream",
     "text": [
      "TB_FIRE_1101_hits.root finished\n"
     ]
    }
   ],
   "source": [
    "# hit_data_1096 = rf.get_ROOT_data_zip(\"TB_FIRE_1096_hits.root\")\n",
    "\n",
    "hit_data_1101 = rf.get_ROOT_data_zip(\"TB_FIRE_1101_hits.root\")\n",
    "\n",
    "# hit_data_1056 = rf.get_ROOT_data_zip(\"TB_FIRE_1056_hits.root\")\n",
    "\n",
    "# hit_data_1057 = rf.get_ROOT_data_zip(\"TB_FIRE_1057_hits.root\")\n",
    "\n",
    "# hit_data_1079 = rf.get_ROOT_data_zip(\"TB_FIRE_1079_hits.root\")"
   ]
  },
  {
   "cell_type": "markdown",
   "id": "d98f73dd",
   "metadata": {},
   "source": [
    "<span style=\"font-family: arial; font-size:25px; color:pink\">\n",
    "\n",
    "Hit Counts and Amp in Single Planes"
   ]
  },
  {
   "cell_type": "code",
   "execution_count": 3,
   "id": "53001307",
   "metadata": {},
   "outputs": [
    {
     "data": {
      "image/png": "[encoded data removed]",
      "text/plain": [
       "<Figure size 640x480 with 2 Axes>"
      ]
     },
     "metadata": {},
     "output_type": "display_data"
    }
   ],
   "source": [
    "rf.hits_amount_colormap_single_plane(hit_data_1101, 7)"
   ]
  },
  {
   "cell_type": "code",
   "execution_count": 4,
   "id": "7c7887ee",
   "metadata": {},
   "outputs": [],
   "source": [
    "# rf.hits_amount_colormap_single_plane(hit_data_1079, 0)"
   ]
  },
  {
   "cell_type": "code",
   "execution_count": 5,
   "id": "5da46e78",
   "metadata": {},
   "outputs": [],
   "source": [
    "# rf.average_amp_colormap_single_plane(hit_data_1101, 7, cmap=\"managua\")"
   ]
  },
  {
   "cell_type": "code",
   "execution_count": 6,
   "id": "29a73be8",
   "metadata": {},
   "outputs": [],
   "source": [
    "# rf.average_amp_colormap_single_plane(hit_data_1101, 0, cmap=\"managua\")"
   ]
  },
  {
   "cell_type": "markdown",
   "id": "5f2a5e73",
   "metadata": {},
   "source": [
    "<span style=\"font-family: arial; font-size:25px; color:pink\">\n",
    "\n",
    "Shower Evolution Throughout the Sensor"
   ]
  },
  {
   "cell_type": "code",
   "execution_count": 7,
   "id": "818db2fe",
   "metadata": {},
   "outputs": [],
   "source": [
    "# rf.single_event_evolution_amp(hit_data_1101, 54106, cmap=\"managua\")"
   ]
  },
  {
   "cell_type": "code",
   "execution_count": 8,
   "id": "753f61a5",
   "metadata": {},
   "outputs": [],
   "source": [
    "# plt.clf()   # Clear the current figure\n",
    "# plt.close() # Close any open figures\n",
    "# %matplotlib widget\n",
    "# rf.amp_histo_single_plane(hit_data_1101,1)"
   ]
  },
  {
   "cell_type": "code",
   "execution_count": 9,
   "id": "0e98c197",
   "metadata": {},
   "outputs": [],
   "source": [
    "# rf.amp_histo_single_plane_total_event(hit_data_1101,0)"
   ]
  },
  {
   "cell_type": "code",
   "execution_count": 10,
   "id": "63a7e9ab",
   "metadata": {},
   "outputs": [],
   "source": [
    "# rf.amp_histo_single_plane_total_event(hit_data_1079,0)"
   ]
  },
  {
   "cell_type": "code",
   "execution_count": 11,
   "id": "0e495a36",
   "metadata": {},
   "outputs": [],
   "source": [
    "# rf.average_amp_vs_plane(hit_data_1101)"
   ]
  },
  {
   "cell_type": "code",
   "execution_count": 12,
   "id": "675ff841",
   "metadata": {},
   "outputs": [],
   "source": [
    "# # shower initial starting points\n",
    "# rf.plot_empty_first_planes(hit_data_1101)"
   ]
  },
  {
   "cell_type": "markdown",
   "id": "beb985bb",
   "metadata": {},
   "source": [
    "<span style=\"font-family: arial; font-size:25px; color:pink\">\n",
    "\n",
    "Shower Characteeristics relation to initial location."
   ]
  },
  {
   "cell_type": "code",
   "execution_count": 176,
   "id": "d37007d9",
   "metadata": {},
   "outputs": [],
   "source": [
    "# Shower energy for different initial X positions of the shower\n",
    "def energy_per_plane_vs_X_position(hit_data_1101):\n",
    "    \n",
    "    # get only showers starting at the first plane to identify the initial location\n",
    "    plane_7 = hit_data_1101[hit_data_1101.plane == 7]\n",
    "    mask = ak.num(plane_7) > 0\n",
    "    first_plane_starting_events = hit_data_1101[mask]\n",
    "\n",
    "    # determine the initial location of the shower\n",
    "    # get the data on the first plane\n",
    "    plane_7_clean = plane_7[mask]\n",
    "    plane_7_channel = plane_7_clean.ch\n",
    "    # divide by x positions\n",
    "    y, x = divmod(plane_7_channel, 20) #y is the quontinent and is the row, x is the remainder and column\n",
    "    x_list = x.to_list()\n",
    "    x_ak = ak.Array(x_list)\n",
    "    x_avg = ak.mean(x_ak, axis = 1)\n",
    "    \n",
    "    # compute the shower energy for each event\n",
    "    hit_amp_array = hit_data_1101.amp\n",
    "    event_shower_amp_array = ak.sum(hit_amp_array, axis = 1)\n",
    "\n",
    "    # get the average shower energy for each X position\n",
    "    unique, inverse = np.unique(x_avg, return_inverse=True)\n",
    "    counts = np.bincount(inverse)\n",
    "    sums = np.bincount(inverse, weights=event_shower_amp_array)\n",
    "\n",
    "    x_reduced = unique\n",
    "    avg_amp_per_position = sums/counts\n",
    "\n",
    "    # plot the energy vs the initial X position of the shower\n",
    "    plt.plot(x_reduced, avg_amp_per_position, marker='o')\n",
    "    plt.set_xlabel('X Position at Shower Initiation [Pad Units]')\n",
    "    plt.set_ylabel('AVG Shower Energy')\n",
    "    plt.set_title('Average Shower Energy vs Initial Location')\n",
    "    plt.grid(True)\n",
    "    # plt.legend()\n",
    "\n",
    "    "
   ]
  },
  {
   "cell_type": "code",
   "execution_count": 177,
   "id": "a16ef82d",
   "metadata": {},
   "outputs": [
    {
     "ename": "TypeError",
     "evalue": "Cannot cast array data from dtype('float64') to dtype('int64') according to the rule 'safe'",
     "output_type": "error",
     "traceback": [
      "\u001b[31m---------------------------------------------------------------------------\u001b[39m",
      "\u001b[31mTypeError\u001b[39m                                 Traceback (most recent call last)",
      "\u001b[36mCell\u001b[39m\u001b[36m \u001b[39m\u001b[32mIn[177]\u001b[39m\u001b[32m, line 1\u001b[39m\n\u001b[32m----> \u001b[39m\u001b[32m1\u001b[39m \u001b[43menergy_per_plane_vs_X_position\u001b[49m\u001b[43m(\u001b[49m\u001b[43mhit_data_1101\u001b[49m\u001b[43m)\u001b[49m\n",
      "\u001b[36mCell\u001b[39m\u001b[36m \u001b[39m\u001b[32mIn[176]\u001b[39m\u001b[32m, line 25\u001b[39m, in \u001b[36menergy_per_plane_vs_X_position\u001b[39m\u001b[34m(hit_data_1101)\u001b[39m\n\u001b[32m     23\u001b[39m \u001b[38;5;66;03m# get the average shower energy for each X position\u001b[39;00m\n\u001b[32m     24\u001b[39m unique, inverse = np.unique(x_avg, return_inverse=\u001b[38;5;28;01mTrue\u001b[39;00m)\n\u001b[32m---> \u001b[39m\u001b[32m25\u001b[39m counts = \u001b[43mnp\u001b[49m\u001b[43m.\u001b[49m\u001b[43mbincount\u001b[49m\u001b[43m(\u001b[49m\u001b[43minverse\u001b[49m\u001b[43m)\u001b[49m\n\u001b[32m     26\u001b[39m sums = np.bincount(inverse, weights=event_shower_amp_array)\n\u001b[32m     28\u001b[39m x_reduced = unique\n",
      "\u001b[36mFile \u001b[39m\u001b[32m~\\AppData\\Local\\Programs\\Python\\Python313\\Lib\\site-packages\\awkward\\highlevel.py:1642\u001b[39m, in \u001b[36mArray.__array_function__\u001b[39m\u001b[34m(self, func, types, args, kwargs)\u001b[39m\n\u001b[32m   1628\u001b[39m \u001b[38;5;28;01mdef\u001b[39;00m\u001b[38;5;250m \u001b[39m\u001b[34m__array_function__\u001b[39m(\u001b[38;5;28mself\u001b[39m, func, types, args, kwargs):\n\u001b[32m   1629\u001b[39m \u001b[38;5;250m    \u001b[39m\u001b[33;03m\"\"\"\u001b[39;00m\n\u001b[32m   1630\u001b[39m \u001b[33;03m    Intercepts attempts to pass this Array to those NumPy functions other\u001b[39;00m\n\u001b[32m   1631\u001b[39m \u001b[33;03m    than universal functions that have an Awkward equivalent.\u001b[39;00m\n\u001b[32m   (...)\u001b[39m\u001b[32m   1640\u001b[39m \u001b[33;03m    See also #__array_ufunc__.\u001b[39;00m\n\u001b[32m   1641\u001b[39m \u001b[33;03m    \"\"\"\u001b[39;00m\n\u001b[32m-> \u001b[39m\u001b[32m1642\u001b[39m     \u001b[38;5;28;01mreturn\u001b[39;00m \u001b[43mak\u001b[49m\u001b[43m.\u001b[49m\u001b[43m_connect\u001b[49m\u001b[43m.\u001b[49m\u001b[43mnumpy\u001b[49m\u001b[43m.\u001b[49m\u001b[43marray_function\u001b[49m\u001b[43m(\u001b[49m\n\u001b[32m   1643\u001b[39m \u001b[43m        \u001b[49m\u001b[43mfunc\u001b[49m\u001b[43m,\u001b[49m\u001b[43m \u001b[49m\u001b[43mtypes\u001b[49m\u001b[43m,\u001b[49m\u001b[43m \u001b[49m\u001b[43margs\u001b[49m\u001b[43m,\u001b[49m\u001b[43m \u001b[49m\u001b[43mkwargs\u001b[49m\u001b[43m,\u001b[49m\u001b[43m \u001b[49m\u001b[43mbehavior\u001b[49m\u001b[43m=\u001b[49m\u001b[38;5;28;43mself\u001b[39;49m\u001b[43m.\u001b[49m\u001b[43m_behavior\u001b[49m\u001b[43m,\u001b[49m\u001b[43m \u001b[49m\u001b[43mattrs\u001b[49m\u001b[43m=\u001b[49m\u001b[38;5;28;43mself\u001b[39;49m\u001b[43m.\u001b[49m\u001b[43m_attrs\u001b[49m\n\u001b[32m   1644\u001b[39m \u001b[43m    \u001b[49m\u001b[43m)\u001b[49m\n",
      "\u001b[36mFile \u001b[39m\u001b[32m~\\AppData\\Local\\Programs\\Python\\Python313\\Lib\\site-packages\\awkward\\_connect\\numpy.py:112\u001b[39m, in \u001b[36marray_function\u001b[39m\u001b[34m(func, types, args, kwargs, behavior, attrs)\u001b[39m\n\u001b[32m    110\u001b[39m rectilinear_args = \u001b[38;5;28mtuple\u001b[39m(_to_rectilinear(x, backend) \u001b[38;5;28;01mfor\u001b[39;00m x \u001b[38;5;129;01min\u001b[39;00m args)\n\u001b[32m    111\u001b[39m rectilinear_kwargs = {k: _to_rectilinear(v, backend) \u001b[38;5;28;01mfor\u001b[39;00m k, v \u001b[38;5;129;01min\u001b[39;00m kwargs.items()}\n\u001b[32m--> \u001b[39m\u001b[32m112\u001b[39m result = \u001b[43mfunc\u001b[49m\u001b[43m(\u001b[49m\u001b[43m*\u001b[49m\u001b[43mrectilinear_args\u001b[49m\u001b[43m,\u001b[49m\u001b[43m \u001b[49m\u001b[43m*\u001b[49m\u001b[43m*\u001b[49m\u001b[43mrectilinear_kwargs\u001b[49m\u001b[43m)\u001b[49m\n\u001b[32m    113\u001b[39m \u001b[38;5;66;03m# We want the result to be a layout (this will fail for functions returning non-array convertibles)\u001b[39;00m\n\u001b[32m    114\u001b[39m out = ak.operations.ak_to_layout._impl(\n\u001b[32m    115\u001b[39m     result,\n\u001b[32m    116\u001b[39m     allow_record=\u001b[38;5;28;01mTrue\u001b[39;00m,\n\u001b[32m   (...)\u001b[39m\u001b[32m    122\u001b[39m     string_policy=\u001b[33m\"\u001b[39m\u001b[33mpass-through\u001b[39m\u001b[33m\"\u001b[39m,\n\u001b[32m    123\u001b[39m )\n",
      "\u001b[31mTypeError\u001b[39m: Cannot cast array data from dtype('float64') to dtype('int64') according to the rule 'safe'"
     ]
    }
   ],
   "source": [
    "energy_per_plane_vs_X_position(hit_data_1101)"
   ]
  },
  {
   "cell_type": "code",
   "execution_count": 145,
   "id": "dae0728f",
   "metadata": {},
   "outputs": [
    {
     "name": "stdout",
     "output_type": "stream",
     "text": [
      "[[39, 27, 183, 73, 435, 83, 38, 63, ..., 27, 71, 558, 48, 156, 20, 161, 155],\n",
      " [13, 30, 81, 100, 471, 398, 29, 88, 41, ..., 227, 50, 29, 45, 108, 19, 54, 28],\n",
      " [17, 35, 26, 11, 406, 232, 82, 80, 17, ..., 55, 47, 70, 54, 80, 208, 18, 89],\n",
      " [87, 55, 530, 57, 116, 153, 32, 25, ..., 11, 12, 14, 67, 129, 350, 184, 130],\n",
      " [50, 265, 72, 136, 79, 107, 30, 379, ..., 33, 125, 133, 26, 33, 409, 96, 83],\n",
      " [21, 31, 24, 71, 21, 41, 27, 16, 76, ..., 53, 41, 145, 125, 324, 129, 13, 230],\n",
      " [52, 19, 148, 143, 42, 173, 75, 48, ..., 18, 17, 78, 86, 39, 51, 192, 168],\n",
      " [12, 228, 38, 85, 80, 39, 100, 109, 41, ..., 48, 73, 138, 113, 60, 43, 16, 23],\n",
      " [35, 54, 16, 93, 342, 89, 84, 51, 537, ..., 8, 8, 9, 9, 10, 11, 56, 289, 117],\n",
      " [17, 29, 70, 156, 42, 36, 188, 8, 8, ..., 69, 125, 441, 144, 188, 54, 25, 32],\n",
      " ...,\n",
      " [21, 449, 44, 248],\n",
      " [164, 40, 15, 14, 31, 50, 38, 18, 144, ..., 168, 134, 41, 40, 95, 37, 33, 16],\n",
      " [52, 175],\n",
      " [33, 31, 39, 48],\n",
      " [14, 142, 294, 143, 110, 45, 29, 43],\n",
      " [43, 151, 27, 151],\n",
      " [13, 48, 364, 134, 31],\n",
      " [12, 133, 70, 56, 107, 53, 356, 61],\n",
      " [29, 67]]\n",
      "#############\n",
      "96\n",
      "#############\n",
      "[3194,\n",
      " 2718,\n",
      " 4498,\n",
      " 5259,\n",
      " 3726,\n",
      " 4791,\n",
      " 6493,\n",
      " 6193,\n",
      " 4201,\n",
      " 3020,\n",
      " ...,\n",
      " 762,\n",
      " 1384,\n",
      " 227,\n",
      " 151,\n",
      " 820,\n",
      " 372,\n",
      " 590,\n",
      " 848,\n",
      " 96]\n"
     ]
    }
   ],
   "source": [
    "amp = hit_data_1101.amp\n",
    "amp.show()\n",
    "print('#############')\n",
    "samp = ak.sum(amp, axis = 1)\n",
    "samp.show()"
   ]
  },
  {
   "cell_type": "code",
   "execution_count": 98,
   "id": "d4294296",
   "metadata": {},
   "outputs": [
    {
     "name": "stdout",
     "output_type": "stream",
     "text": [
      "#########\n",
      "#########\n",
      "#########\n",
      "[True, False, True, True, True, True, ..., False, False, False, False, False]\n",
      "#########\n",
      "[[{plane: 7, ch: 164, amp: 155}],\n",
      " [{plane: 7, ch: 186, amp: 89}],\n",
      " [{plane: 7, ch: 164, amp: 184}, {plane: 7, ch: 184, amp: 130}],\n",
      " [{plane: 7, ch: 163, amp: 83}],\n",
      " [{plane: 7, ch: 146, amp: 13}, {plane: 7, ch: 165, amp: 230}],\n",
      " [{plane: 7, ch: 145, amp: 168}],\n",
      " [{plane: 7, ch: 144, amp: 60}, {...}, ..., {plane: 7, ch: 167, amp: 23}],\n",
      " [{plane: 7, ch: 166, amp: 117}],\n",
      " [{plane: 7, ch: 145, amp: 32}],\n",
      " [{plane: 7, ch: 143, amp: 22}, {plane: 7, ch: 144, amp: 34}],\n",
      " ...,\n",
      " [{plane: 7, ch: 206, amp: 73}],\n",
      " [{plane: 7, ch: 187, amp: 27}],\n",
      " [{plane: 7, ch: 108, amp: 35}, {...}, {plane: 7, ch: 184, amp: 53}],\n",
      " [{plane: 7, ch: 145, amp: 34}],\n",
      " [{plane: 7, ch: 163, amp: 41}],\n",
      " [{plane: 7, ch: 145, amp: 43}],\n",
      " [{plane: 7, ch: 167, amp: 69}],\n",
      " [{plane: 7, ch: 165, amp: 78}, {plane: 7, ch: 166, amp: 109}],\n",
      " [{plane: 7, ch: 165, amp: 48}, {plane: 7, ch: 184, amp: 231}]]\n",
      "#########\n",
      "True\n"
     ]
    }
   ],
   "source": [
    "# hit_data_1101.show()\n",
    "print(\"#########\")\n",
    "plane_7 = hit_data_1101[hit_data_1101.plane == 7]\n",
    "# plane_7.show()\n",
    "print(\"#########\")\n",
    "plane_7clean = plane_7[ak.num(plane_7) > 0]\n",
    "# plane_7clean.show()\n",
    "print(\"#########\")\n",
    "mask = ak.num(plane_7) > 0\n",
    "print(mask)\n",
    "print(\"#########\")\n",
    "plane_7clean2 = plane_7[mask]\n",
    "plane_7clean2.show()\n",
    "print(\"#########\")\n",
    "\n",
    "# print(ak.all(plane_7clean == plane_7clean2))\n",
    "print(ak.almost_equal(plane_7clean, plane_7clean2))\n",
    "\n",
    "# Apply mask\n",
    "# filtered = hit_data_1101[mask]"
   ]
  },
  {
   "cell_type": "code",
   "execution_count": 172,
   "id": "00ef478c",
   "metadata": {},
   "outputs": [
    {
     "name": "stdout",
     "output_type": "stream",
     "text": [
      "[[8], [9], [8, 9], [8], [7, 8], [7], ..., [7], [8], [7], [8], [8, 8], [8, 9]] \n",
      " [[4], [6], [4, 4], [3], [6, 5], [5], ..., [5], [3], [5], [7], [5, 6], [5, 4]]\n",
      "#######\n",
      "[[164],\n",
      " [186],\n",
      " [164, 184],\n",
      " [163],\n",
      " [146, 165],\n",
      " [145],\n",
      " [144, 145, 165, 167],\n",
      " [166],\n",
      " [145],\n",
      " [143, 144],\n",
      " ...,\n",
      " [206],\n",
      " [187],\n",
      " [108, 166, 184],\n",
      " [145],\n",
      " [163],\n",
      " [145],\n",
      " [167],\n",
      " [165, 166],\n",
      " [165, 184]]\n",
      "<class 'awkward.highlevel.Array'>\n",
      "#######\n",
      "[164, 186, 174, 163, 156, 145, 155, 166, ..., 153, 145, 163, 145, 167, 166, 174]\n",
      "#######\n",
      "[[4],\n",
      " [6],\n",
      " [4, 4],\n",
      " [3],\n",
      " [6, 5],\n",
      " [5],\n",
      " [4, 5, 5, 7],\n",
      " [6],\n",
      " [5],\n",
      " [3, 4],\n",
      " ...,\n",
      " [6],\n",
      " [7],\n",
      " [8, 6, 4],\n",
      " [5],\n",
      " [3],\n",
      " [5],\n",
      " [7],\n",
      " [5, 6],\n",
      " [5, 4]]\n",
      "#######\n",
      "<class 'awkward.highlevel.Array'>\n",
      "#######\n",
      "#######\n",
      "#######\n",
      "[4, 6, 4, 3, 5.5, 5, 5.25, 6, 5, 3.5, 7, ..., 7, 6, 7, 6, 5, 3, 5, 7, 5.5, 4.5]\n"
     ]
    }
   ],
   "source": [
    "p7_ch = plane_7clean2.ch\n",
    "y,x = divmod(p7_ch, 20)\n",
    "\n",
    "print(y, \"\\n\", x)\n",
    "print(\"#######\")\n",
    "p7_ch.show()\n",
    "print(type(p7_ch))\n",
    "print(\"#######\")\n",
    "print(ak.mean(p7_ch, axis = 1))\n",
    "print(\"#######\")\n",
    "x.show()\n",
    "print(\"#######\")\n",
    "print(type(x))\n",
    "\n",
    "x_list = x.to_list()\n",
    "x2 = ak.Array(x_list)\n",
    "print(\"#######\")\n",
    "print(\"#######\")\n",
    "print(\"#######\")\n",
    "print(ak.mean(x2, axis = 1))\n",
    "                 "
   ]
  },
  {
   "cell_type": "code",
   "execution_count": 178,
   "id": "ab2f5ee7",
   "metadata": {},
   "outputs": [
    {
     "ename": "AttributeError",
     "evalue": "no field named 'astype'",
     "output_type": "error",
     "traceback": [
      "\u001b[31m---------------------------------------------------------------------------\u001b[39m",
      "\u001b[31mAttributeError\u001b[39m                            Traceback (most recent call last)",
      "\u001b[36mCell\u001b[39m\u001b[36m \u001b[39m\u001b[32mIn[178]\u001b[39m\u001b[32m, line 3\u001b[39m\n\u001b[32m      1\u001b[39m x3 = ak.mean(x2, axis = \u001b[32m1\u001b[39m)\n\u001b[32m      2\u001b[39m unique, inverse = np.unique(x3, return_inverse=\u001b[38;5;28;01mTrue\u001b[39;00m)\n\u001b[32m----> \u001b[39m\u001b[32m3\u001b[39m inverse_int = \u001b[43mnp\u001b[49m\u001b[43m.\u001b[49m\u001b[43mrint\u001b[49m\u001b[43m(\u001b[49m\u001b[43minverse\u001b[49m\u001b[43m)\u001b[49m\u001b[43m.\u001b[49m\u001b[43mastype\u001b[49m(np.int64)\n\u001b[32m      5\u001b[39m counts = np.bincount(inverse_int)\n\u001b[32m      6\u001b[39m sums = np.bincount(inverse, weights=samp)\n",
      "\u001b[36mFile \u001b[39m\u001b[32m~\\AppData\\Local\\Programs\\Python\\Python313\\Lib\\site-packages\\awkward\\highlevel.py:1298\u001b[39m, in \u001b[36mArray.__getattr__\u001b[39m\u001b[34m(self, where)\u001b[39m\n\u001b[32m   1293\u001b[39m         \u001b[38;5;28;01mraise\u001b[39;00m \u001b[38;5;167;01mAttributeError\u001b[39;00m(\n\u001b[32m   1294\u001b[39m             \u001b[33mf\u001b[39m\u001b[33m\"\u001b[39m\u001b[33mwhile trying to get field \u001b[39m\u001b[38;5;132;01m{\u001b[39;00mwhere\u001b[38;5;132;01m!r}\u001b[39;00m\u001b[33m, an exception \u001b[39m\u001b[33m\"\u001b[39m\n\u001b[32m   1295\u001b[39m             \u001b[33mf\u001b[39m\u001b[33m\"\u001b[39m\u001b[33moccurred:\u001b[39m\u001b[38;5;130;01m\\n\u001b[39;00m\u001b[38;5;132;01m{\u001b[39;00m\u001b[38;5;28mtype\u001b[39m(err)\u001b[38;5;132;01m}\u001b[39;00m\u001b[33m: \u001b[39m\u001b[38;5;132;01m{\u001b[39;00merr\u001b[38;5;132;01m!s}\u001b[39;00m\u001b[33m\"\u001b[39m\n\u001b[32m   1296\u001b[39m         ) \u001b[38;5;28;01mfrom\u001b[39;00m\u001b[38;5;250m \u001b[39m\u001b[34;01merr\u001b[39;00m\n\u001b[32m   1297\u001b[39m \u001b[38;5;28;01melse\u001b[39;00m:\n\u001b[32m-> \u001b[39m\u001b[32m1298\u001b[39m     \u001b[38;5;28;01mraise\u001b[39;00m \u001b[38;5;167;01mAttributeError\u001b[39;00m(\u001b[33mf\u001b[39m\u001b[33m\"\u001b[39m\u001b[33mno field named \u001b[39m\u001b[38;5;132;01m{\u001b[39;00mwhere\u001b[38;5;132;01m!r}\u001b[39;00m\u001b[33m\"\u001b[39m)\n",
      "\u001b[31mAttributeError\u001b[39m: no field named 'astype'"
     ]
    }
   ],
   "source": [
    "x3 = ak.mean(x2, axis = 1)\n",
    "unique, inverse = np.unique(x3, return_inverse=True)\n",
    "inverse_int = np.rint(inverse).astype(np.int64)\n",
    "\n",
    "counts = np.bincount(inverse_int)\n",
    "sums = np.bincount(inverse, weights=samp)\n",
    "print(sums/counts)\n",
    "print(unique, \"hi\")\n",
    "print(inverse)\n",
    "print(counts)\n",
    "print(sums)"
   ]
  },
  {
   "cell_type": "code",
   "execution_count": 173,
   "id": "4bab1fce",
   "metadata": {},
   "outputs": [
    {
     "name": "stdout",
     "output_type": "stream",
     "text": [
      "[90, 10, 150, 5, 11]\n",
      "[1, 2, 3, 5, 9] hi\n",
      "[2, 1, 2, 3, 0, 4]\n",
      "[1, 1, 2, 1, 1]\n",
      "[90, 10, 300, 5, 11]\n"
     ]
    }
   ],
   "source": [
    "x   = ak.Array([3, 2, 3, 5, 1, 9])\n",
    "amp = ak.Array([30, 10, 270, 5, 90, 11])\n",
    "\n",
    "\n",
    "unique, inverse = np.unique(x, return_inverse=True)\n",
    "counts = np.bincount(inverse)\n",
    "sums = np.bincount(inverse, weights=amp)\n",
    "print(sums/counts)\n",
    "print(unique, \"hi\")\n",
    "print(inverse)\n",
    "print(counts)\n",
    "print(sums)"
   ]
  },
  {
   "cell_type": "code",
   "execution_count": 13,
   "id": "ad522b0e",
   "metadata": {},
   "outputs": [
    {
     "ename": "_IncompleteInputError",
     "evalue": "incomplete input (1306389801.py, line 5)",
     "output_type": "error",
     "traceback": [
      "  \u001b[36mCell\u001b[39m\u001b[36m \u001b[39m\u001b[32mIn[13]\u001b[39m\u001b[32m, line 5\u001b[39m\n\u001b[31m    \u001b[39m\n    ^\n\u001b[31m_IncompleteInputError\u001b[39m\u001b[31m:\u001b[39m incomplete input\n"
     ]
    }
   ],
   "source": [
    "# average shower radius\n",
    "def shower_radius_per_plane_single_event(hit_data, event):\n",
    "\n",
    "    # find the initial location of the shower\n",
    "    frst_plane_channels = hit_data[hit_data.plane == 0].ch\n",
    "    "
   ]
  }
 ],
 "metadata": {
  "kernelspec": {
   "display_name": "Python 3",
   "language": "python",
   "name": "python3"
  },
  "language_info": {
   "codemirror_mode": {
    "name": "ipython",
    "version": 3
   },
   "file_extension": ".py",
   "mimetype": "text/x-python",
   "name": "python",
   "nbconvert_exporter": "python",
   "pygments_lexer": "ipython3",
   "version": "3.13.5"
  }
 },
 "nbformat": 4,
 "nbformat_minor": 5
}
